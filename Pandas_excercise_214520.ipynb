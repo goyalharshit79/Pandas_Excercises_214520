{
  "nbformat": 4,
  "nbformat_minor": 0,
  "metadata": {
    "colab": {
      "name": "Pandas_excercise_214520.ipynb",
      "provenance": [],
      "collapsed_sections": []
    },
    "kernelspec": {
      "name": "python3",
      "display_name": "Python 3"
    },
    "language_info": {
      "name": "python"
    }
  },
  "cells": [
    {
      "cell_type": "code",
      "source": [
        "import pandas as pd\n",
        "import numpy as np"
      ],
      "metadata": {
        "id": "10UEVzqIJ6pC"
      },
      "execution_count": null,
      "outputs": []
    },
    {
      "cell_type": "code",
      "source": [
        "my_data = np.array([ [1,'Kevin',20] , [2,'Sobak',18] , [3,'Alloy',3] ])\n",
        "\n",
        "column_names = ['Regstr.' , 'Name' , 'Marks']\n",
        "\n",
        "my_dataframe = pd.DataFrame(data = my_data , columns = column_names)\n",
        "\n",
        "print(my_dataframe)"
      ],
      "metadata": {
        "colab": {
          "base_uri": "https://localhost:8080/"
        },
        "id": "wxB8_2wvKyLG",
        "outputId": "dab18e92-594d-46b0-fd5e-c2013f462a4b"
      },
      "execution_count": null,
      "outputs": [
        {
          "output_type": "stream",
          "name": "stdout",
          "text": [
            "  Regstr.   Name Marks\n",
            "0       1  Kevin    20\n",
            "1       2  Sobak    18\n",
            "2       3  Alloy     3\n"
          ]
        }
      ]
    },
    {
      "cell_type": "code",
      "source": [
        "my_dataframe['Grades'] = ['A' , 'B' , 'C']\n",
        "\n",
        "print(my_dataframe)"
      ],
      "metadata": {
        "colab": {
          "base_uri": "https://localhost:8080/"
        },
        "id": "ppDIKCJmOUO_",
        "outputId": "0b2a63bb-10b5-48ba-9e97-a650bf242d8f"
      },
      "execution_count": null,
      "outputs": [
        {
          "output_type": "stream",
          "name": "stdout",
          "text": [
            "  Regstr.   Name Marks Grades\n",
            "0       1  Kevin    20      A\n",
            "1       2  Sobak    18      B\n",
            "2       3  Alloy     3      C\n"
          ]
        }
      ]
    },
    {
      "cell_type": "code",
      "source": [
        "#Printing anyone row\n",
        "print(my_dataframe.iloc[[2]],'\\n')\n",
        "\n",
        "#Printing some rows from the top\n",
        "print(my_dataframe.head(2),'\\n')\n",
        "\n",
        "#printing a particular column\n",
        "print(my_dataframe['Name'],'\\n')\n",
        "\n",
        "#Printing from a certain row to another\n",
        "print(my_dataframe[1:3],'\\n')\n"
      ],
      "metadata": {
        "colab": {
          "base_uri": "https://localhost:8080/"
        },
        "id": "dE_gcrjOOz2t",
        "outputId": "6e463a44-d5ba-4853-9d31-a05c43526458"
      },
      "execution_count": null,
      "outputs": [
        {
          "output_type": "stream",
          "name": "stdout",
          "text": [
            "  Regstr.   Name Marks Grades\n",
            "2       3  Alloy     3      C \n",
            "\n",
            "  Regstr.   Name Marks Grades\n",
            "0       1  Kevin    20      A\n",
            "1       2  Sobak    18      B \n",
            "\n",
            "0    Kevin\n",
            "1    Sobak\n",
            "2    Alloy\n",
            "Name: Name, dtype: object \n",
            "\n",
            "  Regstr.   Name Marks Grades\n",
            "1       2  Sobak    18      B\n",
            "2       3  Alloy     3      C \n",
            "\n"
          ]
        }
      ]
    },
    {
      "cell_type": "code",
      "source": [
        "import numpy as np\n",
        "import pandas as pd\n",
        "import matplotlib.pyplot as plt\n",
        "import seaborn as sns\n",
        "import warnings\n",
        "warnings.filterwarnings('ignore')"
      ],
      "metadata": {
        "id": "_szotCdPQPNS"
      },
      "execution_count": null,
      "outputs": []
    },
    {
      "cell_type": "code",
      "source": [
        "from google.colab import drive\n",
        "drive.mount('/content/drive',force_remount= True)\n",
        "data = pd.read_csv(\"Shark_Tank_India_S1_new.csv\")"
      ],
      "metadata": {
        "colab": {
          "base_uri": "https://localhost:8080/"
        },
        "id": "ijnVFsI1UP5G",
        "outputId": "929f24c7-89d1-4714-aeef-fca431403a6b"
      },
      "execution_count": null,
      "outputs": [
        {
          "output_type": "stream",
          "name": "stdout",
          "text": [
            "Mounted at /content/drive\n"
          ]
        }
      ]
    },
    {
      "cell_type": "code",
      "source": [
        "data"
      ],
      "metadata": {
        "id": "ketLq1V5VQ1i"
      },
      "execution_count": null,
      "outputs": []
    },
    {
      "cell_type": "code",
      "source": [
        "data.head()"
      ],
      "metadata": {
        "id": "LhTPaFBIVfOd"
      },
      "execution_count": null,
      "outputs": []
    },
    {
      "cell_type": "code",
      "source": [
        "data.tail()"
      ],
      "metadata": {
        "id": "nd6-5zfTVj5p"
      },
      "execution_count": null,
      "outputs": []
    },
    {
      "cell_type": "code",
      "source": [
        "data.shape"
      ],
      "metadata": {
        "id": "SnlBcW1GWC6H"
      },
      "execution_count": null,
      "outputs": []
    },
    {
      "cell_type": "code",
      "source": [
        "data.columns"
      ],
      "metadata": {
        "colab": {
          "base_uri": "https://localhost:8080/"
        },
        "id": "Wwl94UgdWEoU",
        "outputId": "c025bec0-b7ef-4408-c738-f7692bb0ea3a"
      },
      "execution_count": null,
      "outputs": [
        {
          "output_type": "execute_result",
          "data": {
            "text/plain": [
              "Index(['episode_number', 'startup_number', 'brand_name', 'description',\n",
              "       'deal_offered', 'startup_ask_amount_lakhs', 'startup_ask_percentage',\n",
              "       'startup_ask_valuation', 'deal_amount_lakhs', 'deal_equity',\n",
              "       'deal_valuation', 'loan_element_present', 'loan_amount',\n",
              "       'rannvijay_present', 'abish_present', 'aman_present', 'aman_invested',\n",
              "       'anupam_present', 'anupam_invested', 'ashneer_present',\n",
              "       'ashneer_invested', 'ghazal_present', 'ghazal_invested',\n",
              "       'namita_present', 'namita_invested', 'peyush_present',\n",
              "       'peyush_invested', 'vineeta_present', 'vineeta_invested',\n",
              "       'sharks_offering', 'amount_per_shark', 'equity_per_shark'],\n",
              "      dtype='object')"
            ]
          },
          "metadata": {},
          "execution_count": 11
        }
      ]
    },
    {
      "cell_type": "code",
      "source": [
        "data.isnull().sum()"
      ],
      "metadata": {
        "colab": {
          "base_uri": "https://localhost:8080/"
        },
        "id": "LXAgzK0v07VU",
        "outputId": "ced420d6-8198-4292-9767-43833cef482b"
      },
      "execution_count": null,
      "outputs": [
        {
          "output_type": "execute_result",
          "data": {
            "text/plain": [
              "episode_number              0\n",
              "startup_number              0\n",
              "brand_name                  0\n",
              "description                 0\n",
              "deal_offered                0\n",
              "startup_ask_amount_lakhs    0\n",
              "startup_ask_percentage      0\n",
              "startup_ask_valuation       0\n",
              "deal_amount_lakhs           0\n",
              "deal_equity                 0\n",
              "deal_valuation              1\n",
              "loan_element_present        0\n",
              "loan_amount                 0\n",
              "rannvijay_present           0\n",
              "abish_present               0\n",
              "aman_present                0\n",
              "aman_invested               0\n",
              "anupam_present              0\n",
              "anupam_invested             0\n",
              "ashneer_present             0\n",
              "ashneer_invested            0\n",
              "ghazal_present              0\n",
              "ghazal_invested             0\n",
              "namita_present              0\n",
              "namita_invested             0\n",
              "peyush_present              0\n",
              "peyush_invested             0\n",
              "vineeta_present             0\n",
              "vineeta_invested            0\n",
              "sharks_offering             0\n",
              "amount_per_shark            0\n",
              "equity_per_shark            0\n",
              "dtype: int64"
            ]
          },
          "metadata": {},
          "execution_count": 7
        }
      ]
    },
    {
      "cell_type": "markdown",
      "source": [
        "trying different functions of pandas using various dataframes for samples\n"
      ],
      "metadata": {
        "id": "KWWWUxfYztfz"
      }
    },
    {
      "cell_type": "code",
      "source": [
        "person = pd.DataFrame({'Name':['Asif' , 'Basit' , 'John', 'Hary'],\n",
        " 'DOB': ['3/20/1960', '3/19/1981', '9/12/1999' , '7/12/1967'],\n",
        " 'EmpID': ['E453', 'E983', 'E675','E120']})"
      ],
      "metadata": {
        "id": "hRqeQtmMzei4"
      },
      "execution_count": null,
      "outputs": []
    },
    {
      "cell_type": "code",
      "source": [
        "person['DOB']=pd.to_datetime(person['DOB'])\n",
        "print(person['DOB'])"
      ],
      "metadata": {
        "id": "WU9h9tNBzef5"
      },
      "execution_count": null,
      "outputs": []
    },
    {
      "cell_type": "code",
      "source": [
        "from datetime import date"
      ],
      "metadata": {
        "id": "fhIw2DNxzedF"
      },
      "execution_count": null,
      "outputs": []
    },
    {
      "cell_type": "code",
      "source": [
        "a = pd.Timestamp(date(1980,12,20))\n",
        "print(a)"
      ],
      "metadata": {
        "id": "TXi2zP6jzeam"
      },
      "execution_count": null,
      "outputs": []
    },
    {
      "cell_type": "code",
      "source": [
        ""
      ],
      "metadata": {
        "id": "ZpOgMGOP2Ut6"
      },
      "execution_count": null,
      "outputs": []
    },
    {
      "cell_type": "markdown",
      "source": [
        "Various ways to make a dataframe\n"
      ],
      "metadata": {
        "id": "kZiCXKfHz7YA"
      }
    },
    {
      "cell_type": "code",
      "source": [
        "df2 = pd.DataFrame({ 'A' : 1.,\n",
        "'B':pd.Timestamp('20130102'),\n",
        "'C':pd.Series(1.5,index=list(range(4))),\n",
        "'D':np.array([3] * 4),\n",
        "'E':pd.Categorical([\"test\",\"train\",\"test\",\"train\"]),\n",
        "'F':'foo' })\n",
        "\n",
        "print(df2)"
      ],
      "metadata": {
        "id": "I3NR43TCzeVR"
      },
      "execution_count": null,
      "outputs": []
    },
    {
      "cell_type": "code",
      "source": [
        "dates = pd.date_range(\"20220401\", periods=4)"
      ],
      "metadata": {
        "id": "JtOhusmQzeSx"
      },
      "execution_count": null,
      "outputs": []
    },
    {
      "cell_type": "code",
      "source": [
        "df = pd.DataFrame(np.random.randn(4,4), index=dates, columns=list('ABCD'))\n",
        "df"
      ],
      "metadata": {
        "id": "KhqAqemrz3Q5"
      },
      "execution_count": null,
      "outputs": []
    },
    {
      "cell_type": "code",
      "source": [
        ""
      ],
      "metadata": {
        "id": "qsclJbYTz3Mh"
      },
      "execution_count": null,
      "outputs": []
    },
    {
      "cell_type": "code",
      "source": [
        ""
      ],
      "metadata": {
        "id": "5_IFmrvbz3Hz"
      },
      "execution_count": null,
      "outputs": []
    }
  ]
}